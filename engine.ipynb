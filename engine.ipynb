{
 "cells": [
  {
   "cell_type": "code",
   "execution_count": null,
   "id": "63383f98",
   "metadata": {},
   "outputs": [],
   "source": []
  },
  {
   "cell_type": "code",
   "execution_count": 7,
   "id": "992b8bdd",
   "metadata": {},
   "outputs": [
    {
     "name": "stdout",
     "output_type": "stream",
     "text": [
      "बिल्ली छत पर चढ़कर चिड़ियों को देख रही थी\n",
      "lenght 41\n",
      "----\n",
      "[224, 164, 172, 224, 164, 191, 224, 164, 178, 224, 165, 141, 224, 164, 178, 224, 165, 128, 32, 224, 164, 155, 224, 164, 164, 32, 224, 164, 170, 224, 164, 176, 32, 224, 164, 154, 224, 164, 162, 224, 164, 188, 224, 164, 149, 224, 164, 176, 32, 224, 164, 154, 224, 164, 191, 224, 164, 161, 224, 164, 188, 224, 164, 191, 224, 164, 175, 224, 165, 139, 224, 164, 130, 32, 224, 164, 149, 224, 165, 139, 32, 224, 164, 166, 224, 165, 135, 224, 164, 150, 32, 224, 164, 176, 224, 164, 185, 224, 165, 128, 32, 224, 164, 165, 224, 165, 128]\n",
      "length 107\n"
     ]
    }
   ],
   "source": [
    "text = \"बिल्ली छत पर चढ़कर चिड़ियों को देख रही थी\"\n",
    "tokens = text.encode(\"utf-8\")\n",
    "tokens = list(map(int , tokens))\n",
    "print(text)\n",
    "print(\"lenght\" , len(text))\n",
    "print('----')\n",
    "print(tokens)\n",
    "print(\"length\" ,len(tokens))"
   ]
  },
  {
   "cell_type": "code",
   "execution_count": 8,
   "id": "17091da4",
   "metadata": {},
   "outputs": [],
   "source": [
    "def get_stats(ids) :\n",
    "    counts = {}\n",
    "    for pair in zip(ids , ids[1:]):\n",
    "        counts[pair] = counts.get(pair,0) + 1\n",
    "    return counts\n",
    "\n",
    "stats = get_stats(tokens)"
   ]
  },
  {
   "cell_type": "code",
   "execution_count": 9,
   "id": "84603719",
   "metadata": {},
   "outputs": [
    {
     "data": {
      "text/plain": [
       "(224, 164)"
      ]
     },
     "execution_count": 9,
     "metadata": {},
     "output_type": "execute_result"
    }
   ],
   "source": [
    "top_pair = max(stats, key=stats.get)\n",
    "top_pair"
   ]
  },
  {
   "cell_type": "code",
   "execution_count": 10,
   "id": "5fc8df0e",
   "metadata": {},
   "outputs": [
    {
     "name": "stdout",
     "output_type": "stream",
     "text": [
      "[5, 6, 99, 9, 1]\n",
      "[256, 172, 256, 191, 256, 178, 224, 165, 141, 256, 178, 224, 165, 128, 32, 256, 155, 256, 164, 32, 256, 170, 256, 176, 32, 256, 154, 256, 162, 256, 188, 256, 149, 256, 176, 32, 256, 154, 256, 191, 256, 161, 256, 188, 256, 191, 256, 175, 224, 165, 139, 256, 130, 32, 256, 149, 224, 165, 139, 32, 256, 166, 224, 165, 135, 256, 150, 32, 256, 176, 256, 185, 224, 165, 128, 32, 256, 165, 224, 165, 128]\n",
      "length: 81\n"
     ]
    }
   ],
   "source": [
    "def merge(ids, pair, idx):\n",
    "  # in the list of ints (ids), replace all consecutive occurences of pair with the new token idx\n",
    "  newids = []\n",
    "  i = 0\n",
    "  while i < len(ids):\n",
    "    # if we are not at the very last position AND the pair matches, replace it\n",
    "    if i < len(ids) - 1 and ids[i] == pair[0] and ids[i+1] == pair[1]:\n",
    "      newids.append(idx)\n",
    "      i += 2\n",
    "    else:\n",
    "      newids.append(ids[i])\n",
    "      i += 1\n",
    "  return newids\n",
    "\n",
    "print(merge([5, 6, 6, 7, 9, 1], (6, 7), 99))\n",
    "\n",
    "tokens2 = merge(tokens, top_pair, 256)\n",
    "print(tokens2)\n",
    "print(\"length:\", len(tokens2))"
   ]
  },
  {
   "cell_type": "code",
   "execution_count": null,
   "id": "3e07d582",
   "metadata": {},
   "outputs": [],
   "source": []
  }
 ],
 "metadata": {
  "kernelspec": {
   "display_name": "Tokenization",
   "language": "python",
   "name": "python3"
  },
  "language_info": {
   "codemirror_mode": {
    "name": "ipython",
    "version": 3
   },
   "file_extension": ".py",
   "mimetype": "text/x-python",
   "name": "python",
   "nbconvert_exporter": "python",
   "pygments_lexer": "ipython3",
   "version": "3.7.12"
  }
 },
 "nbformat": 4,
 "nbformat_minor": 5
}
